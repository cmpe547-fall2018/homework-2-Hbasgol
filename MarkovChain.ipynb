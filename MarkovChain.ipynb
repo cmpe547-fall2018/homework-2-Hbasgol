{
 "cells": [
  {
   "cell_type": "markdown",
   "metadata": {},
   "source": [
    "# Homework 2 - Markov Chain of Letters"
   ]
  },
  {
   "cell_type": "markdown",
   "metadata": {},
   "source": [
    "This is the answer of Homework 2 given for Bayesian Statistics and Machine Learning. In this answer, functions defined and created by Ali Taylan Cemgil are used. These functions can be found in his github notes. Also, the program runs by the help of the BSML.py file, which involves these functions."
   ]
  },
  {
   "cell_type": "markdown",
   "metadata": {},
   "source": [
    "Libraries:"
   ]
  },
  {
   "cell_type": "code",
   "execution_count": null,
   "metadata": {},
   "outputs": [],
   "source": [
    "import numpy as np\n",
    "import scipy as sc\n",
    "import time\n",
    "from BSML import *\n",
    "import csv"
   ]
  },
  {
   "cell_type": "markdown",
   "metadata": {},
   "source": [
    "Basic document and functions for conditional probability table"
   ]
  },
  {
   "cell_type": "code",
   "execution_count": null,
   "metadata": {},
   "outputs": [],
   "source": [
    "alphabet = [chr(i+ord('a')) for i in range(26)]\n",
    "alphabet.append('.')\n",
    "letter2idx = {c:i for i,c in enumerate(alphabet)}\n",
    "\n",
    "T = []\n",
    "with open('transitions.csv') as csvfile:\n",
    "    reader = csv.reader(csvfile, delimiter=',')\n",
    "    for row in reader:\n",
    "        T.append(row)"
   ]
  },
  {
   "cell_type": "markdown",
   "metadata": {},
   "source": [
    "toFloat(stringList): Function for changing the type of float numbers from string to float"
   ]
  },
  {
   "cell_type": "code",
   "execution_count": null,
   "metadata": {},
   "outputs": [],
   "source": [
    "def toFloat(stringList):\n",
    "    stringList = np.array(stringList,float)\n",
    "\n",
    "    strList = []\n",
    "    for i in range(len(stringList)):\n",
    "        strList.append(normalize(stringList[i][:], axis = 0))\n",
    "        \n",
    "    return strList\n",
    "T = toFloat(T)"
   ]
  },
  {
   "cell_type": "markdown",
   "metadata": {},
   "source": [
    "dagGen(N): Function to create a Directed Acyclic Graph (DAG) according to a given number that determines its number of nodes. It returns a dictionary including the features of the graph."
   ]
  },
  {
   "cell_type": "code",
   "execution_count": null,
   "metadata": {},
   "outputs": [],
   "source": [
    "def dagGen(N):\n",
    "    \n",
    "    variablenames = ['x' + str(i) for i in range(N)]\n",
    "    cardinalities = [len(alphabet) for i in range(len(variablenames))]\n",
    "    parents = {'x0': []}\n",
    "\n",
    "    for i in range(len(variablenames)):\n",
    "        if i + 1 == len(variablenames):\n",
    "            break\n",
    "        parents.update({'x' + str(i + 1): ['x' + str(i)]})\n",
    "    states = states_from_cardinalities(variablenames, cardinalities)\n",
    "    cp_tables = {}\n",
    "    cp_tables.update({('x0', ): T[letter2idx['.']][:]})\n",
    "    for i in range(len(variablenames)):\n",
    "        if i + 1 == len(variablenames):\n",
    "            break\n",
    "        x = [T[index][:] for index, j in enumerate(states[variablenames[i]])]\n",
    "        cp_tables.update({(variablenames[i+1], variablenames[i]) : x})\n",
    "    \n",
    "    theta = make_cp_tables(variablenames, cardinalities, cp_tables)\n",
    "\n",
    "    dagdict = {'variablenames': variablenames,\n",
    "                  'cardinalities': cardinalities,\n",
    "                  'parents':parents,\n",
    "                  'states': states,\n",
    "                  'cp_tables': cp_tables,\n",
    "                  'theta': theta}\n",
    "\n",
    "    return dagdict"
   ]
  },
  {
   "cell_type": "markdown",
   "metadata": {},
   "source": [
    "indextoletter(dictionary): and statetoletter(statelist): For a given dictionary including nodes and corresponding states, this function returns the corresponding letters being a string. merge(dict1, dict2, variablenames): This function merges two dictionaries which include missing and observed letters according to variable names and returns the complete word as a string."
   ]
  },
  {
   "cell_type": "code",
   "execution_count": null,
   "metadata": {},
   "outputs": [],
   "source": [
    "def indextoletter(dictionary):\n",
    "    indexlist = []\n",
    "    indexlist2 = []\n",
    "    letterlist = []\n",
    "    letterlist2 = []\n",
    "    x = []\n",
    "    for key in dictionary:\n",
    "        x.append(key)\n",
    "    for i in x:\n",
    "        for j in i:\n",
    "            indexlist.append(int(j[9:]))\n",
    "        indexlist2.append(indexlist)\n",
    "        indexlist = []       \n",
    "    for i in indexlist2:\n",
    "        for j in i:\n",
    "            letterlist.append(alphabet[j])\n",
    "        letterlist2.append(letterlist)\n",
    "        letterlist = []\n",
    "    \n",
    "    for i in letterlist2:\n",
    "        letterlist.append(\"\".join(i))\n",
    "        \n",
    "    return letterlist\n",
    "\n",
    "def statetoletter(statelist):\n",
    "    dictionary = {}\n",
    "    for i in statelist:\n",
    "        parts = i.split('_')\n",
    "        dictionary.update({parts[0]: alphabet[int(parts[2])]})\n",
    "        \n",
    "    return dictionary\n",
    "\n",
    "def merge(dict1, dict2, variablenames):\n",
    "    letters = []\n",
    "    for i in variablenames:\n",
    "        if i in dict1:\n",
    "            letters.append(dict1[i])\n",
    "        elif i in  dict2:\n",
    "            letters.append(dict2[i])\n",
    "    return \"\".join(letters)"
   ]
  },
  {
   "cell_type": "markdown",
   "metadata": {},
   "source": [
    "sample(N, num_of_samples = 1): create word samples according to the given number N corresponding to number of nodes and num_of_samples that correspond to number of samples that is required."
   ]
  },
  {
   "cell_type": "code",
   "execution_count": null,
   "metadata": {},
   "outputs": [],
   "source": [
    "def sample(N, num_of_samples = 1):\n",
    "    dagdict = dagGen(N)\n",
    "    eng = Engine(dagdict['variablenames'], dagdict['parents'],\n",
    "             dagdict['states'], dagdict['theta'])\n",
    "\n",
    "    s = sample_states(dagdict['variablenames'], dagdict['states'],\n",
    "              dagdict['variablenames'], dagdict['parents'],\n",
    "              dagdict['theta'], num_of_samples)\n",
    "    return indextoletter(s)"
   ]
  },
  {
   "cell_type": "markdown",
   "metadata": {},
   "source": [
    "afterobservation(word, parameter = 'randomsample'):\n",
    "This function takes a word with missing and observed letters, also a parameter that can be either 'randomsample' or 'argmax'. When it takes argmax, it returns a sample of the missing states that have the maximum possibility with the log probability as a list. If it takes 'randomsample', it returns a sample of the missing states according to computed probability table with the log probability as a list."
   ]
  },
  {
   "cell_type": "code",
   "execution_count": null,
   "metadata": {},
   "outputs": [],
   "source": [
    "def afterobservation(word, parameter = 'randomsample'):\n",
    "    missinglist = []\n",
    "    seendict = {}\n",
    "    word = list(word)\n",
    "    for index, i in enumerate(word):\n",
    "        if i == '_' or i == '?':\n",
    "            missinglist.append('x' + str(index))\n",
    "        else:\n",
    "            seendict.update({'x' + str(index): 'x' + str(index) + '_state_' + str(letter2idx[i])})\n",
    "    \n",
    "    dagdict = dagGen(len(word))\n",
    "    eng = Engine(dagdict['variablenames'], dagdict['parents'],\n",
    "             dagdict['states'], dagdict['theta'], visible_names = missinglist)\n",
    "    eng.propagate_observation(seendict)\n",
    "    marg = eng.marginal_table(missinglist)\n",
    "    \n",
    "    factor=1.0/sum(marg.values())\n",
    "    marg_d = {k: v*factor for k, v in marg.items() }\n",
    "    length = len(marg_d.keys())\n",
    "\n",
    "    statelist = list(marg_d.keys())\n",
    "    stateProb = list(marg_d.values())\n",
    "    length = len(statelist)\n",
    "    \n",
    "    if parameter == 'randomsample':\n",
    "        prob = np.random.choice(list(range(length)), p=list(marg_d.values()))\n",
    "        missingdict = statetoletter(statelist[prob])\n",
    "        stateProb = stateProb[prob]\n",
    "    elif parameter == 'argmax':\n",
    "        v=list(marg_d.values())\n",
    "        k=list(marg_d.keys())\n",
    "        missingdict = statetoletter(k[v.index(max(v))])\n",
    "        stateProb = max(v)\n",
    "    \n",
    "    seendict = statetoletter(list(seendict.values()))\n",
    "    wordsample = merge(missingdict, seendict, dagdict['variablenames'])\n",
    "           \n",
    "    return wordsample, np.log(stateProb)"
   ]
  },
  {
   "cell_type": "markdown",
   "metadata": {},
   "source": [
    "test(test_strings, parametergiven = 'randomsample'): This function takes strings and works with the function mentioned above. It separates given strings according to '.' to maintain computational efficiency."
   ]
  },
  {
   "cell_type": "code",
   "execution_count": null,
   "metadata": {},
   "outputs": [],
   "source": [
    "def test(test_strings, parametergiven = 'randomsample'):\n",
    "    a = []\n",
    "    logprob = 1\n",
    "    wordsample = []\n",
    "    wordlogtuple = []\n",
    "    if not isinstance(test_strings, list):\n",
    "        test_strings = [test_strings]\n",
    "    for i in test_strings:\n",
    "        a.append(i.split('.'))\n",
    "    for i in a:\n",
    "        for index, j in enumerate(i):\n",
    "            length = len(i)\n",
    "            if len(j) == 0:\n",
    "                break\n",
    "            result  = afterobservation(j, parameter = parametergiven)\n",
    "            wordsample.append(result[0])\n",
    "            if result[1] == 0:\n",
    "                logprob = 1 * logprob\n",
    "            else:\n",
    "                logprob = result[1] * logprob\n",
    "        logprob = logprob / length\n",
    "        word = '.'.join(wordsample)\n",
    "        wordlogtuple.append((word, logprob))\n",
    "        logprob = 1\n",
    "    \n",
    "    return wordlogtuple"
   ]
  },
  {
   "cell_type": "markdown",
   "metadata": {},
   "source": [
    "# Test section of the homework"
   ]
  },
  {
   "cell_type": "markdown",
   "metadata": {},
   "source": [
    "For the first question. N corresponds to number of nodes and num_of_samples corresponds to the number of sample that is returned."
   ]
  },
  {
   "cell_type": "code",
   "execution_count": null,
   "metadata": {},
   "outputs": [],
   "source": [
    "print(sample(5, num_of_samples = 4))"
   ]
  },
  {
   "cell_type": "markdown",
   "metadata": {},
   "source": [
    "For the second question. It takes the test_strings, computes missing letters in each string according to computed probability table and returns the sample with its log probability"
   ]
  },
  {
   "cell_type": "code",
   "execution_count": null,
   "metadata": {},
   "outputs": [],
   "source": [
    "teststrings = []\n",
    "for i in test_strings:\n",
    "    teststrings.append(test(i, 'randomsample'))\n",
    "    time.sleep(25)\n",
    "print(teststrings)"
   ]
  },
  {
   "cell_type": "markdown",
   "metadata": {},
   "source": [
    "For the third question. It takes the test_strings, computes missing letters in each string according to argmax and returns the sample with its log probability"
   ]
  },
  {
   "cell_type": "code",
   "execution_count": null,
   "metadata": {},
   "outputs": [],
   "source": [
    "teststrings = []\n",
    "for i in test_strings:\n",
    "    teststrings.append(test(i, 'argmax'))\n",
    "    time.sleep(25)\n",
    "print(teststrings)"
   ]
  }
 ],
 "metadata": {
  "kernelspec": {
   "display_name": "Python 3",
   "language": "python",
   "name": "python3"
  },
  "language_info": {
   "codemirror_mode": {
    "name": "ipython",
    "version": 3
   },
   "file_extension": ".py",
   "mimetype": "text/x-python",
   "name": "python",
   "nbconvert_exporter": "python",
   "pygments_lexer": "ipython3",
   "version": "3.6.6"
  }
 },
 "nbformat": 4,
 "nbformat_minor": 2
}
